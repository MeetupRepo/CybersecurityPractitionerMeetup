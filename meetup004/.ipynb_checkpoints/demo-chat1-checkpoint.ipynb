{
 "cells": [
  {
   "cell_type": "code",
   "execution_count": null,
   "id": "427e3984-cfd2-4bc3-b7ca-bf92b7c9bc06",
   "metadata": {},
   "outputs": [],
   "source": [
    "# LLM Vulnerabilities Workshop\n",
    "\n",
    "# Setup and Configuration\n",
    "This workshop will demonstrate vulnerabilities in large language models (LLMs) using a containerized TinyLLama model served via FastAPI. Ensure your Docker container is running and accessible at `http://localhost:8000`. We'll interact with the model using Python's `requests` library.\n",
    "\n",
    "```python\n",
    "import requests\n",
    "\n",
    "# Define API endpoint\n",
    "API_URL = \"http://localhost:8000/generate\"\n",
    "\n",
    "def query_model(prompt):\n",
    "    \"\"\"Send a query to the model and return the response.\"\"\"\n",
    "    try:\n",
    "        response = requests.post(API_URL, json={\"prompt\": prompt})\n",
    "        response.raise_for_status()\n",
    "        return response.json().get(\"generated_text\", \"No response\")\n",
    "    except Exception as e:\n",
    "        return f\"Error: {e}\"\n",
    "\n",
    "# Test the setup\n",
    "print(query_model(\"Hello, world!\"))\n",
    "```\n"
   ]
  }
 ],
 "metadata": {
  "kernelspec": {
   "display_name": "Python 3 (ipykernel)",
   "language": "python",
   "name": "python3"
  },
  "language_info": {
   "codemirror_mode": {
    "name": "ipython",
    "version": 3
   },
   "file_extension": ".py",
   "mimetype": "text/x-python",
   "name": "python",
   "nbconvert_exporter": "python",
   "pygments_lexer": "ipython3",
   "version": "3.12.3"
  }
 },
 "nbformat": 4,
 "nbformat_minor": 5
}
